{
 "cells": [
  {
   "cell_type": "code",
   "execution_count": 1,
   "metadata": {},
   "outputs": [],
   "source": [
    "import json\n",
    "\n",
    "with open(\"../data/final/test1.json\", 'r') as f:\n",
    "    coser_dataset = json.load(f)"
   ]
  },
  {
   "cell_type": "code",
   "execution_count": 2,
   "metadata": {},
   "outputs": [
    {
     "data": {
      "text/plain": [
       "17"
      ]
     },
     "execution_count": 2,
     "metadata": {},
     "output_type": "execute_result"
    }
   ],
   "source": [
    "len(coser_dataset[\"plots\"])"
   ]
  },
  {
   "cell_type": "code",
   "execution_count": null,
   "metadata": {},
   "outputs": [
    {
     "data": {
      "text/plain": [
       "{'summary': \"Harry confronts Quirrell, who reveals he's been working for Voldemort. They struggle for the Sorcerer's Stone, and Harry defeats Quirrell but falls unconscious. He wakes up in the hospital wing, where Dumbledore explains what happened and answers some of Harry's questions. Harry attends the end-of-year feast where Gryffindor wins the House Cup. The school year ends, and Harry returns to the Dursleys, looking forward to using the threat of magic to keep Dudley in line.\",\n",
       " 'prominence': 95,\n",
       " 'key_characters': [{'name': 'Harry Potter',\n",
       "   'description': \"The protagonist, an 11-year-old wizard who survived Voldemort's attack as a baby.\",\n",
       "   'experience': 'Harry confronts Quirrell, protects the Stone, and nearly dies in the process. He learns more about his parents and Voldemort from Dumbledore and ends the year on a high note.'},\n",
       "  {'name': 'Quirinus Quirrell',\n",
       "   'description': 'Defense Against the Dark Arts teacher who was secretly working for Voldemort.',\n",
       "   'experience': \"Quirrell reveals his true allegiance to Voldemort and attempts to steal the Sorcerer's Stone. He is defeated by Harry and abandoned by Voldemort.\"},\n",
       "  {'name': 'Albus Dumbledore',\n",
       "   'description': 'Headmaster of Hogwarts and powerful wizard.',\n",
       "   'experience': 'Dumbledore saves Harry from Quirrell, explains recent events, and awards points to Gryffindor, helping them win the House Cup.'},\n",
       "  {'name': 'Ron Weasley',\n",
       "   'description': \"Harry's best friend and fellow Gryffindor student.\",\n",
       "   'experience': \"Ron visits Harry in the hospital wing, celebrates Gryffindor's victory, and invites Harry to stay over the summer.\"},\n",
       "  {'name': 'Hermione Granger',\n",
       "   'description': \"Harry and Ron's intelligent friend and fellow Gryffindor student.\",\n",
       "   'experience': \"Hermione visits Harry in the hospital wing, celebrates Gryffindor's victory, and says goodbye to Harry at King's Cross.\"}],\n",
       " 'chapter': 'THE MAN WITH TWO FACES',\n",
       " 'conversation': [{'scenario': \"In a dimly lit chamber deep beneath Hogwarts, Harry Potter finds himself face-to-face with Professor Quirrell, standing before the mysterious Mirror of Erised. The room is tense with an otherworldly aura, the culmination of Harry's first-year adventures. Shocked and confused, Harry realizes that the stuttering, seemingly harmless Quirrell, not the stern and suspicious Snape, has been the true threat all along. The Sorcerer's Stone, a powerful magical artifact, is at stake, and Harry must use all his wit and courage to prevent it from falling into the wrong hands.\",\n",
       "   'topic': \"Quirrell's true identity and motivations\",\n",
       "   'key_characters': [{'name': 'Harry Potter',\n",
       "     'motivation': \"Overwhelmed with shock and confusion, Harry struggles to process the revelation about Quirrell. He's determined to protect the Stone and uncover the truth, but fear and uncertainty cloud his mind. Harry's survival instincts kick in as he realizes the gravity of the situation, compelling him to keep Quirrell talking while frantically searching for a way out.\"},\n",
       "    {'name': 'Quirinus Quirrell',\n",
       "     'motivation': \"Elated to finally shed his meek facade, Quirrell revels in his moment of triumph. He's eager to gloat about his clever deception and demonstrate his true power. Quirrell is focused on obtaining the Stone for his master, viewing Harry as a nuisance to be eliminated. He's confident in his superiority but wary of underestimating the boy who survived Voldemort's attack.\"}],\n",
       "   'dialogues': [{'character': 'Harry Potter',\n",
       "     'message': \"[I can't believe it's Quirrell. I need to understand what's happening.] You! (gasps in disbelief)\"},\n",
       "    {'character': 'Quirinus Quirrell',\n",
       "     'message': \"[Time to show my true colors.] (smiles calmly) Me. I wondered whether I'd be meeting you here, Potter.\"},\n",
       "    {'character': 'Harry Potter',\n",
       "     'message': \"[This doesn't make sense. Snape seemed so suspicious.] But I thought — Snape —\"},\n",
       "    {'character': 'Quirinus Quirrell',\n",
       "     'message': \"[Foolish boy, so easily deceived.] (laughs coldly) Severus? Yes, Severus does seem the type, doesn't he? So useful to have him swooping around like an overgrown bat. Next to him, who would suspect p-p-poor, st-stuttering P-Professor Quirrell?\"},\n",
       "    {'character': 'Harry Potter',\n",
       "     'message': \"[I'm struggling to process this revelation.] But Snape tried to kill me!\"},\n",
       "    {'character': 'Quirinus Quirrell',\n",
       "     'message': \"[Time to set the record straight.] No, no, no. I tried to kill you. Your friend Miss Granger accidentally knocked me over as she rushed to set fire to Snape at that Quidditch match. She broke my eye contact with you. Another few seconds and I'd have got you off that broom. I'd have managed it before then if Snape hadn't been muttering a countercurse, trying to save you.\"},\n",
       "    {'character': 'Harry Potter',\n",
       "     'message': '[Everything I thought I knew is wrong.] Snape was trying to save me?'},\n",
       "    {'character': 'Quirinus Quirrell',\n",
       "     'message': \"[Potter's ignorance is amusing.] Of course. Why do you think he wanted to referee your next match? He was trying to make sure I didn't do it again. Funny, really... he needn't have bothered. I couldn't do anything with Dumbledore watching. All the other teachers thought Snape was trying to stop Gryffindor from winning, he did make himself unpopular... and what a waste of time, when after all that, I'm going to kill you tonight.\"},\n",
       "    {'character': 'Environment',\n",
       "     'message': 'Quirrell snaps his fingers. Ropes spring out of thin air and wrap themselves tightly around Harry.'},\n",
       "    {'character': 'Quirinus Quirrell',\n",
       "     'message': \"[Now to explain why Potter must die.] You're too nosy to live, Potter. Scurrying around the school on Halloween like that, for all I knew you'd seen me coming to look at what was guarding the Stone.\"},\n",
       "    {'character': 'Harry Potter',\n",
       "     'message': '[Another piece of the puzzle falls into place.] You let the troll in?'},\n",
       "    {'character': 'Quirinus Quirrell',\n",
       "     'message': \"[Proud of my accomplishments.] Certainly. I have a special gift with trolls — you must have seen what I did to the one in the chamber back there? Unfortunately, while everyone else was running around looking for it, Snape, who already suspected me, went straight to the third floor to head me off — and not only did my troll fail to beat you to death, that three-headed dog didn't even manage to bite Snape's leg off properly.\"}],\n",
       "   'i_c': 0},\n",
       "  {'scenario': \"In the hospital wing of Hogwarts School of Witchcraft and Wizardry, Harry Potter regains consciousness after his harrowing encounter with Professor Quirrell in the dungeons. The room is filled with the scent of healing potions and the warmth of sunlight streaming through the windows. A table beside Harry's bed is piled high with colorful sweets and cards from well-wishers. Albus Dumbledore, the wise and powerful headmaster, sits nearby, his blue eyes twinkling with relief and curiosity. The air is thick with unspoken questions and the lingering tension of recent events.\",\n",
       "   'topic': \"Explaining recent events and answering Harry's questions\",\n",
       "   'key_characters': [{'name': 'Harry Potter',\n",
       "     'motivation': \"Disoriented and anxious, Harry's mind races with questions about the Sorcerer's Stone and the confrontation with Quirrell. He feels a mix of relief at being alive, concern for his friends, and curiosity about what transpired after he lost consciousness. Harry is determined to understand the full story and protect the Stone.\"},\n",
       "    {'name': 'Albus Dumbledore',\n",
       "     'motivation': \"Dumbledore feels a profound sense of responsibility and care for Harry. He's relieved to see the boy awake but knows he must carefully navigate the conversation to provide comfort and clarity without overwhelming Harry. Dumbledore aims to address Harry's immediate concerns while gently guiding him towards recovery and understanding.\"}],\n",
       "   'dialogues': [{'character': 'Harry Potter',\n",
       "     'message': \"[I'm disoriented but relieved to see a familiar face.] (blinks and focuses on Dumbledore) Sir! The Stone! It was Quirrell! He's got the Stone! Sir, quick —\"},\n",
       "    {'character': 'Albus Dumbledore',\n",
       "     'message': '[I need to calm him down.] (smiles gently) Calm yourself, dear boy, you are a little behind the times. Quirrell does not have the Stone.'},\n",
       "    {'character': 'Harry Potter',\n",
       "     'message': \"[I'm confused and worried.] Then who does? Sir, I —\"},\n",
       "    {'character': 'Albus Dumbledore',\n",
       "     'message': '[I must insist he rests.] Harry, please relax, or Madam Pomfrey will have me thrown out.'},\n",
       "    {'character': 'Environment',\n",
       "     'message': \"Harry looks around and realizes he's in the hospital wing. Next to his bed is a table piled high with what looks like half the candy shop.\"},\n",
       "    {'character': 'Albus Dumbledore',\n",
       "     'message': \"[I'll explain the gifts to distract him momentarily.] Tokens from your friends and admirers. What happened down in the dungeons between you and Professor Quirrell is a complete secret, so, naturally, the whole school knows.\"},\n",
       "    {'character': 'Harry Potter',\n",
       "     'message': \"[I'm still trying to piece everything together.] How long have I been in here?\"},\n",
       "    {'character': 'Albus Dumbledore',\n",
       "     'message': \"[I'll give him the facts.] Three days. Mr. Ronald Weasley and Miss Granger will be most relieved you have come round, they have been extremely worried.\"},\n",
       "    {'character': 'Harry Potter',\n",
       "     'message': \"[I can't stop thinking about the Stone.] But sir, the Stone —\"},\n",
       "    {'character': 'Albus Dumbledore',\n",
       "     'message': \"[I see he won't be distracted. I'll explain.] I see you are not to be distracted. Very well, the Stone. Professor Quirrell did not manage to take it from you. I arrived in time to prevent that, although you were doing very well on your own, I must say.\"},\n",
       "    {'character': 'Harry Potter',\n",
       "     'message': \"[Relief floods through me, but I'm still confused.] You got there? You got Hermione's owl?\"},\n",
       "    {'character': 'Albus Dumbledore',\n",
       "     'message': \"[I'll clarify the timeline.] We must have crossed in midair. No sooner had I reached London than it became clear to me that the place I should be was the one I had just left. I arrived just in time to pull Quirrell off you.\"}],\n",
       "   'i_c': 1}],\n",
       " 'state': 'finished',\n",
       " 'i_chunk': 16,\n",
       " 'i_p': 16}"
      ]
     },
     "execution_count": 13,
     "metadata": {},
     "output_type": "execute_result"
    }
   ],
   "source": [
    "for conversation in coser_dataset[\"plots\"][16]['conversation']"
   ]
  },
  {
   "cell_type": "code",
   "execution_count": 11,
   "metadata": {},
   "outputs": [
    {
     "data": {
      "text/plain": [
       "dict_keys(['Albus Dumbledore', 'Petunia Dursley', 'Draco Malfoy', 'Dudley Dursley', 'Firenze', 'Fred Weasley', 'George Weasley', 'Harry Potter', 'Hermione Granger', 'Minerva McGonagall', 'Garrick Ollivander', 'Piers Polkiss', 'Quirinus Quirrell', 'Ron Weasley', 'Rubeus Hagrid', 'Severus Snape', 'Vernon Dursley'])"
      ]
     },
     "execution_count": 11,
     "metadata": {},
     "output_type": "execute_result"
    }
   ],
   "source": [
    "coser_dataset[\"character_datasets\"].keys()"
   ]
  },
  {
   "cell_type": "code",
   "execution_count": null,
   "metadata": {},
   "outputs": [],
   "source": []
  }
 ],
 "metadata": {
  "kernelspec": {
   "display_name": "nlp2",
   "language": "python",
   "name": "python3"
  },
  "language_info": {
   "codemirror_mode": {
    "name": "ipython",
    "version": 3
   },
   "file_extension": ".py",
   "mimetype": "text/x-python",
   "name": "python",
   "nbconvert_exporter": "python",
   "pygments_lexer": "ipython3",
   "version": "3.9.18"
  }
 },
 "nbformat": 4,
 "nbformat_minor": 2
}
